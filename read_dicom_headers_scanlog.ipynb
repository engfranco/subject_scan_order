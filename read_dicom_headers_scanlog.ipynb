{
 "cells": [
  {
   "cell_type": "markdown",
   "metadata": {},
   "source": [
    "This script is to read the header information from dicom data for checking a scanlog"
   ]
  },
  {
   "cell_type": "code",
   "execution_count": 45,
   "metadata": {},
   "outputs": [],
   "source": [
    "# importing packages\n",
    "import pydicom as dicom\n",
    "import os \n"
   ]
  },
  {
   "cell_type": "code",
   "execution_count": 46,
   "metadata": {},
   "outputs": [
    {
     "name": "stdout",
     "output_type": "stream",
     "text": [
      "/projects/afranco/ScanSheetMonkey/A132_20151116_2015-11-16_134940\n",
      "/projects/afranco/ScanSheetMonkey/A132_20151116_2015-11-16_134940\n",
      "['.ipynb_checkpoints', 'SCRIPT', 'A132_20151116_2015-11-16_134940']\n",
      "<type 'str'>\n",
      "<type 'str'>\n",
      "['MB1_1.5_TE19_005', 'MB1_1.5_TE19_006', 'ANAT_HIRES_003', 'MB1_1.5_TE19_012', 'ANAT_HIRES_004', 'MB1_1.5_TE19_009', 'MB1_1.5_TE19_010', 'ANAT_HIRES_015', 'Localizer_001', 'ANAT_HIRES_016', 'MB1_1.5_TE19_013', 'MB1_1.5_TE19_014', 'ANAT_HIRES_011', 'Localizer_002', 'MB1_1.5_TE19_007', 'ANAT_HIRES_008']\n"
     ]
    },
    {
     "data": {
      "text/plain": [
       "16"
      ]
     },
     "execution_count": 46,
     "metadata": {},
     "output_type": "execute_result"
    }
   ],
   "source": [
    "folder_path = '/projects/afranco/ScanSheetMonkey/'\n",
    "subj_path = 'A132_20151116_2015-11-16_134940'\n",
    "\n",
    "in_path = folder_path + subj_path\n",
    "in_path2 = os.path.abspath(in_path)\n",
    "print(in_path)\n",
    "print(in_path2)\n",
    "\n",
    "print(os.listdir('../'))\n",
    "\n",
    "\n",
    "print(type(in_path))\n",
    "print(type(in_path2))\n",
    "\n",
    "print(os.listdir(in_path))\n",
    "# reading the folders inside the subjects folder\n",
    "folders = os.listdir(in_path)\n",
    "len(folders)\n",
    "\n"
   ]
  },
  {
   "cell_type": "code",
   "execution_count": 47,
   "metadata": {
    "scrolled": true
   },
   "outputs": [
    {
     "name": "stdout",
     "output_type": "stream",
     "text": [
      "/projects/afranco/ScanSheetMonkey/A132_20151116_2015-11-16_134940/ANAT_HIRES_003/000001-1.dcm\n"
     ]
    }
   ],
   "source": [
    "#reading all the dicom files\n",
    "blah = os.walk(in_path)\n",
    "type(blah)\n",
    "file_paths = []\n",
    "for root, dirs, files in os.walk(in_path):\n",
    "#   print(files)\n",
    "    if files:\n",
    "        file_list = [\"%s/%s\"%(root,f) for f in files]\n",
    "#       print(file_list)\n",
    "#        print(len(file_list))\n",
    "        file_paths.extend(file_list)\n",
    "        \n",
    "#print(len(file_paths))\n",
    "#print(file_paths)\n",
    "file_paths.sort()\n",
    "#print(len(file_paths))\n",
    "#print(file_paths)\n",
    "print(file_paths[0])"
   ]
  },
  {
   "cell_type": "code",
   "execution_count": 53,
   "metadata": {},
   "outputs": [
    {
     "name": "stdout",
     "output_type": "stream",
     "text": [
      "/projects/afranco/ScanSheetMonkey/A132_20151116_2015-11-16_134940/ANAT_HIRES_003/000002-1.dcm\n",
      "3\n",
      "2\n",
      "ANAT_HIRES\n"
     ]
    }
   ],
   "source": [
    "# Starting to get com dicom header information \n",
    "fp = file_paths[1]\n",
    "dcm_in = dicom.read_file(fp)\n",
    "print(fp)\n",
    "# this is what we want - the Series Number \n",
    "print(dcm_in.SeriesNumber)\n",
    "print(dcm_in.InstanceNumber)\n",
    "# This is also what we want\n",
    "print(dcm_in.SeriesDescription)"
   ]
  },
  {
   "cell_type": "code",
   "execution_count": null,
   "metadata": {},
   "outputs": [],
   "source": []
  }
 ],
 "metadata": {
  "kernelspec": {
   "display_name": "Python 2",
   "language": "python",
   "name": "python2"
  },
  "language_info": {
   "codemirror_mode": {
    "name": "ipython",
    "version": 2
   },
   "file_extension": ".py",
   "mimetype": "text/x-python",
   "name": "python",
   "nbconvert_exporter": "python",
   "pygments_lexer": "ipython2",
   "version": "2.7.14"
  }
 },
 "nbformat": 4,
 "nbformat_minor": 2
}
